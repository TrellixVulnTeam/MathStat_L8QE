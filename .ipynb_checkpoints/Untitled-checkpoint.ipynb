{
 "cells": [
  {
   "cell_type": "code",
   "execution_count": 1,
   "metadata": {},
   "outputs": [],
   "source": [
    "sample=[]\n",
    "with open(\"data_1.txt\")as file:\n",
    "    for line in file:\n",
    "        sample.append(float(line))"
   ]
  },
  {
   "cell_type": "code",
   "execution_count": 2,
   "metadata": {
    "scrolled": true
   },
   "outputs": [
    {
     "name": "stdout",
     "output_type": "stream",
     "text": [
      "Requirement already satisfied: matplotlib in c:\\mathstat\\venv\\lib\\site-packages (3.0.3)\n",
      "Requirement already satisfied: kiwisolver>=1.0.1 in c:\\mathstat\\venv\\lib\\site-packages (from matplotlib) (1.1.0)\n",
      "Requirement already satisfied: cycler>=0.10 in c:\\mathstat\\venv\\lib\\site-packages (from matplotlib) (0.10.0)\n",
      "Requirement already satisfied: numpy>=1.10.0 in c:\\mathstat\\venv\\lib\\site-packages (from matplotlib) (1.16.3)\n",
      "Requirement already satisfied: pyparsing!=2.0.4,!=2.1.2,!=2.1.6,>=2.0.1 in c:\\mathstat\\venv\\lib\\site-packages (from matplotlib) (2.4.0)\n",
      "Requirement already satisfied: python-dateutil>=2.1 in c:\\mathstat\\venv\\lib\\site-packages (from matplotlib) (2.8.0)\n",
      "Requirement already satisfied: setuptools in c:\\mathstat\\venv\\lib\\site-packages\\setuptools-39.1.0-py3.6.egg (from kiwisolver>=1.0.1->matplotlib) (39.1.0)\n",
      "Requirement already satisfied: six in c:\\mathstat\\venv\\lib\\site-packages (from cycler>=0.10->matplotlib) (1.12.0)\n"
     ]
    }
   ],
   "source": [
    "import sys\n",
    "!{sys.executable} -m pip install matplotlib\n",
    "import numpy as np\n",
    "import matplotlib.pyplot as plt\n"
   ]
  },
  {
   "cell_type": "code",
   "execution_count": 3,
   "metadata": {},
   "outputs": [],
   "source": [
    "sample.sort()"
   ]
  },
  {
   "cell_type": "code",
   "execution_count": 4,
   "metadata": {},
   "outputs": [
    {
     "data": {
      "image/png": "[encoded data removed]",
      "text/plain": [
       "<Figure size 432x288 with 1 Axes>"
      ]
     },
     "metadata": {
      "needs_background": "light"
     },
     "output_type": "display_data"
    }
   ],
   "source": [
    "sup = []\n",
    "for i in range(len(sample)):\n",
    "    sup.append(sample.count(sample[i]))\n",
    "plt.plot(sup)\n",
    "plt.show()"
   ]
  },
  {
   "cell_type": "code",
   "execution_count": 5,
   "metadata": {},
   "outputs": [
    {
     "data": {
      "image/png": "[encoded data removed]",
      "text/plain": [
       "<Figure size 432x288 with 1 Axes>"
      ]
     },
     "metadata": {
      "needs_background": "light"
     },
     "output_type": "display_data"
    }
   ],
   "source": [
    "sup = []\n",
    "imin = int(min(sample))\n",
    "imax = int(max(sample))+1\n",
    "\n",
    "for i in range(imin,imax):\n",
    "    count = 0\n",
    "    for j in range(len(sample)):\n",
    "        if sample[j] >= imin+i and sample[j] < imin+i+1:\n",
    "            count += 1\n",
    "    sup.append(count)\n",
    "x = np.arange(imin, imax, 1)\n",
    "\n",
    "plt.plot(x,sup)\n",
    "plt.show()"
   ]
  },
  {
   "cell_type": "code",
   "execution_count": 6,
   "metadata": {},
   "outputs": [
    {
     "data": {
      "image/png": "[encoded data removed]",
      "text/plain": [
       "<Figure size 432x288 with 1 Axes>"
      ]
     },
     "metadata": {
      "needs_background": "light"
     },
     "output_type": "display_data"
    }
   ],
   "source": [
    "plt.hist(sample)\n",
    "plt.show()"
   ]
  },
  {
   "cell_type": "code",
   "execution_count": 7,
   "metadata": {},
   "outputs": [
    {
     "name": "stdout",
     "output_type": "stream",
     "text": [
      "9.5382161152935\n"
     ]
    }
   ],
   "source": [
    "n = len(sample)\n",
    "s = sum(sample)\n",
    "med = s / n\n",
    "print(med)"
   ]
  },
  {
   "cell_type": "code",
   "execution_count": 8,
   "metadata": {},
   "outputs": [
    {
     "name": "stdout",
     "output_type": "stream",
     "text": [
      "29.063503309664227\n"
     ]
    }
   ],
   "source": [
    "var = sum([(sample[i]-med)**2 for i in range(n)]) / n\n",
    "print(var)"
   ]
  },
  {
   "cell_type": "code",
   "execution_count": 9,
   "metadata": {},
   "outputs": [
    {
     "name": "stdout",
     "output_type": "stream",
     "text": [
      "5.391057717152009\n"
     ]
    }
   ],
   "source": [
    "from math import sqrt\n",
    "stdev = sqrt(var)\n",
    "print(stdev)"
   ]
  },
  {
   "cell_type": "code",
   "execution_count": 10,
   "metadata": {},
   "outputs": [],
   "source": [
    "def M(sample: list, k: int):\n",
    "    n = len(sample)\n",
    "    med = sum(sample) / n\n",
    "    M = sum([(x - med) ** k for x in range(n)]) / n\n",
    "    return M"
   ]
  },
  {
   "cell_type": "code",
   "execution_count": 11,
   "metadata": {},
   "outputs": [
    {
     "name": "stdout",
     "output_type": "stream",
     "text": [
      "1.3874216591742008\n"
     ]
    }
   ],
   "source": [
    "skew = (sqrt(n * (n - 1)) / (n - 2)) * (M(sample, 3) / (M(sample, 2) ** (3/2)))\n",
    "print(skew)"
   ]
  },
  {
   "cell_type": "code",
   "execution_count": 12,
   "metadata": {},
   "outputs": [
    {
     "name": "stdout",
     "output_type": "stream",
     "text": [
      "-0.9943533500594633\n"
     ]
    }
   ],
   "source": [
    "kurt = ((n ** 2 - 1) / ((n - 2) * (n - 3))) * (M(sample, 4) / (M(sample, 2) ** 2) - 3 + (6 / (n + 1)))\n",
    "print(kurt)"
   ]
  },
  {
   "cell_type": "code",
   "execution_count": null,
   "metadata": {},
   "outputs": [],
   "source": []
  },
  {
   "cell_type": "code",
   "execution_count": 13,
   "metadata": {},
   "outputs": [
    {
     "name": "stdout",
     "output_type": "stream",
     "text": [
      "Requirement already satisfied: scipy in c:\\mathstat\\venv\\lib\\site-packages (1.2.1)\n",
      "Requirement already satisfied: numpy>=1.8.2 in c:\\mathstat\\venv\\lib\\site-packages (from scipy) (1.16.3)\n"
     ]
    }
   ],
   "source": [
    "!{sys.executable} -m pip install scipy \n",
    "from scipy.stats import t\n",
    "from scipy.stats import chi2"
   ]
  },
  {
   "cell_type": "code",
   "execution_count": 14,
   "metadata": {},
   "outputs": [],
   "source": [
    "def pe(med, stdev, n, eps):\n",
    "    emin = med - t.pdf(1-eps/2, n-1)*(stdev/sqrt(n-1))\n",
    "    emax = -emin + 2*med\n",
    "    return emin, emax"
   ]
  },
  {
   "cell_type": "code",
   "execution_count": 15,
   "metadata": {},
   "outputs": [
    {
     "name": "stdout",
     "output_type": "stream",
     "text": [
      "9.40450922506166\n",
      "9.671923005525338\n",
      "9.407118241841163\n",
      "9.669313988745836\n"
     ]
    }
   ],
   "source": [
    "emin95, emax95 = pe(med, stdev, n, 0.05)\n",
    "print(emin95)\n",
    "print(emax95)\n",
    "emin99, emax99 = pe(med, stdev, n, 0.01)\n",
    "print(emin99)\n",
    "print(emax99)"
   ]
  },
  {
   "cell_type": "code",
   "execution_count": 16,
   "metadata": {},
   "outputs": [
    {
     "name": "stdout",
     "output_type": "stream",
     "text": [
      "9.5382161152935\n"
     ]
    }
   ],
   "source": [
    "print(med)"
   ]
  },
  {
   "cell_type": "code",
   "execution_count": 17,
   "metadata": {},
   "outputs": [],
   "source": [
    "def pv(var, n, eps):\n",
    "    vmin = n*var/chi2.pdf(1-eps/2, n-1)\n",
    "    vmax = n*var/chi2.pdf(eps/2, n-1)\n",
    "    return vmin, vmax"
   ]
  },
  {
   "cell_type": "code",
   "execution_count": 18,
   "metadata": {},
   "outputs": [
    {
     "name": "stdout",
     "output_type": "stream",
     "text": [
      "1.1148755728254586e+81\n",
      "1.0175832788823745e+158\n",
      "4.206043791938653e+80\n",
      "8.003357697422786e+191\n"
     ]
    }
   ],
   "source": [
    "vmin95, vmax95 = pv(var, n, 0.05)\n",
    "print(vmin95)\n",
    "print(vmax95)\n",
    "vmin99, vmax99 = pv(var, n, 0.01)\n",
    "print(vmin99)\n",
    "print(vmax99)"
   ]
  },
  {
   "cell_type": "code",
   "execution_count": 19,
   "metadata": {},
   "outputs": [
    {
     "name": "stdout",
     "output_type": "stream",
     "text": [
      "29.063503309664227\n"
     ]
    }
   ],
   "source": [
    "print(var)"
   ]
  },
  {
   "cell_type": "code",
   "execution_count": null,
   "metadata": {},
   "outputs": [],
   "source": []
  }
 ],
 "metadata": {
  "kernelspec": {
   "display_name": "Python 3",
   "language": "python",
   "name": "python3"
  },
  "language_info": {
   "codemirror_mode": {
    "name": "ipython",
    "version": 3
   },
   "file_extension": ".py",
   "mimetype": "text/x-python",
   "name": "python",
   "nbconvert_exporter": "python",
   "pygments_lexer": "ipython3",
   "version": "3.6.3"
  }
 },
 "nbformat": 4,
 "nbformat_minor": 2
}
